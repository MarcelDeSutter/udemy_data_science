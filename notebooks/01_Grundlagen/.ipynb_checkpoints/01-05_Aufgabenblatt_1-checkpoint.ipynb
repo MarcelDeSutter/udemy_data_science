{
 "cells": [
  {
   "cell_type": "code",
   "execution_count": 45,
   "metadata": {},
   "outputs": [],
   "source": [
    "# Lösung\n",
    "\n",
    "def taschenrechner(a: float, b: float) -> float or None:\n",
    "    \"\"\"Simple calculator for the basic arithmetic operations\"\"\"\n",
    "    operator = input(\"Gebe den gewünschten Operator ein (zulässig sind '+', '-', '*', '/'):\")\n",
    "    \n",
    "    if operator == \"+\":\n",
    "        return a + b\n",
    "    elif operator == \"-\":\n",
    "        return a - b\n",
    "    elif operator == \"*\":\n",
    "        return a * b\n",
    "    elif operator == \"/\":\n",
    "        if b == 0:\n",
    "            print(\"Fehler! Division durch 0!\")\n",
    "            return None\n",
    "        else:\n",
    "            return a / b\n",
    "    else:\n",
    "        print(\"Operator unbekannt!\")"
   ]
  },
  {
   "cell_type": "code",
   "execution_count": 46,
   "metadata": {},
   "outputs": [
    {
     "name": "stdin",
     "output_type": "stream",
     "text": [
      "Gebe den gewünschten Operator ein (zulässig sind '+', '-', '*', '/'): /\n"
     ]
    },
    {
     "name": "stdout",
     "output_type": "stream",
     "text": [
      "Fehler! Division durch 0!\n"
     ]
    }
   ],
   "source": [
    "taschenrechner(1, 0)"
   ]
  },
  {
   "cell_type": "code",
   "execution_count": 24,
   "metadata": {},
   "outputs": [],
   "source": [
    "# Lösung\n",
    "\n",
    "def fibonacci_for(n: int) -> None:\n",
    "    \"\"\"Prints the first n fibonacci numbers using for-loop\"\"\"\n",
    "    prev_num = 0\n",
    "    curr_num = 1\n",
    "    print(prev_num)\n",
    "    print(curr_num)\n",
    "\n",
    "    for i in range(2, n):\n",
    "        next_num = curr_num + prev_num\n",
    "        print(next_num)\n",
    "        prev_num = curr_num\n",
    "        curr_num = next_num"
   ]
  },
  {
   "cell_type": "code",
   "execution_count": 25,
   "metadata": {},
   "outputs": [
    {
     "name": "stdout",
     "output_type": "stream",
     "text": [
      "0\n",
      "1\n",
      "1\n",
      "2\n",
      "3\n"
     ]
    }
   ],
   "source": [
    "fibonacci_for(5)"
   ]
  },
  {
   "cell_type": "code",
   "execution_count": 32,
   "metadata": {},
   "outputs": [],
   "source": [
    "# Lösung\n",
    "\n",
    "def fibonacci_while(n: int) -> None:\n",
    "    \"\"\"Prints the first n fibonacci numbers using while-loop\"\"\"\n",
    "    prev_num = 0\n",
    "    curr_num = 1\n",
    "    i = 2\n",
    "    print(prev_num)\n",
    "    print(curr_num)\n",
    "\n",
    "    while i < n:\n",
    "        next_num = curr_num + prev_num\n",
    "        print(next_num)\n",
    "        prev_num = curr_num\n",
    "        curr_num = next_num\n",
    "        i += 1"
   ]
  },
  {
   "cell_type": "code",
   "execution_count": 33,
   "metadata": {},
   "outputs": [
    {
     "name": "stdout",
     "output_type": "stream",
     "text": [
      "0\n",
      "1\n",
      "1\n",
      "2\n",
      "3\n"
     ]
    }
   ],
   "source": [
    "fibonacci_while(5)"
   ]
  },
  {
   "cell_type": "code",
   "execution_count": 40,
   "metadata": {},
   "outputs": [],
   "source": []
  },
  {
   "cell_type": "code",
   "execution_count": null,
   "metadata": {},
   "outputs": [],
   "source": []
  },
  {
   "cell_type": "code",
   "execution_count": null,
   "metadata": {},
   "outputs": [],
   "source": []
  }
 ],
 "metadata": {
  "kernelspec": {
   "display_name": "Python 3",
   "language": "python",
   "name": "python3"
  },
  "language_info": {
   "codemirror_mode": {
    "name": "ipython",
    "version": 3
   },
   "file_extension": ".py",
   "mimetype": "text/x-python",
   "name": "python",
   "nbconvert_exporter": "python",
   "pygments_lexer": "ipython3",
   "version": "3.8.2"
  }
 },
 "nbformat": 4,
 "nbformat_minor": 4
}
