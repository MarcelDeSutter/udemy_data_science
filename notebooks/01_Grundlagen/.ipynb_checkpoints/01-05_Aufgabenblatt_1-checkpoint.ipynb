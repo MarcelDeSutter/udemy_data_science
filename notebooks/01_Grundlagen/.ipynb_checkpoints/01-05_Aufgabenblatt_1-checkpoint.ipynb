{
 "cells": [
  {
   "cell_type": "code",
   "execution_count": 4,
   "metadata": {},
   "outputs": [],
   "source": [
    "# Lösung\n",
    "\n",
    "def area_of_circle(r: float) -> float:\n",
    "    \"\"\"Takes as input the radius of a circle and returns the circle's area\"\"\"\n",
    "    PI = 3.14159265359\n",
    "    return PI * r**2"
   ]
  },
  {
   "cell_type": "code",
   "execution_count": 6,
   "metadata": {},
   "outputs": [
    {
     "data": {
      "text/plain": [
       "18.0955736846784"
      ]
     },
     "execution_count": 6,
     "metadata": {},
     "output_type": "execute_result"
    }
   ],
   "source": [
    "area_of_circle(2.4)"
   ]
  },
  {
   "cell_type": "code",
   "execution_count": 17,
   "metadata": {},
   "outputs": [],
   "source": [
    "# Lösung\n",
    "\n",
    "def is_even(n: int) -> bool:\n",
    "    \"\"\"Takes as input an integer and returns true if odd, false otherwise\"\"\"\n",
    "    return True if n % 2 == 0 else False"
   ]
  },
  {
   "cell_type": "code",
   "execution_count": 18,
   "metadata": {},
   "outputs": [
    {
     "data": {
      "text/plain": [
       "True"
      ]
     },
     "execution_count": 18,
     "metadata": {},
     "output_type": "execute_result"
    }
   ],
   "source": [
    "is_even(6)"
   ]
  },
  {
   "cell_type": "code",
   "execution_count": 45,
   "metadata": {},
   "outputs": [],
   "source": [
    "# Lösung\n",
    "\n",
    "def taschenrechner(a: float, b: float) -> float or None:\n",
    "    \"\"\"Simple calculator for the basic arithmetic operations\"\"\"\n",
    "    operator = input(\"Gebe den gewünschten Operator ein (zulässig sind '+', '-', '*', '/'):\")\n",
    "    \n",
    "    if operator == \"+\":\n",
    "        return a + b\n",
    "    elif operator == \"-\":\n",
    "        return a - b\n",
    "    elif operator == \"*\":\n",
    "        return a * b\n",
    "    elif operator == \"/\":\n",
    "        if b == 0:\n",
    "            print(\"Fehler! Division durch 0!\")\n",
    "            return None\n",
    "        else:\n",
    "            return a / b\n",
    "    else:\n",
    "        print(\"Operator unbekannt!\")"
   ]
  },
  {
   "cell_type": "code",
   "execution_count": 46,
   "metadata": {},
   "outputs": [
    {
     "name": "stdin",
     "output_type": "stream",
     "text": [
      "Gebe den gewünschten Operator ein (zulässig sind '+', '-', '*', '/'): /\n"
     ]
    },
    {
     "name": "stdout",
     "output_type": "stream",
     "text": [
      "Fehler! Division durch 0!\n"
     ]
    }
   ],
   "source": [
    "taschenrechner(1, 0)"
   ]
  },
  {
   "cell_type": "code",
   "execution_count": 28,
   "metadata": {},
   "outputs": [],
   "source": [
    "# Lösung\n",
    "\n",
    "def print_odd_numbers(n: int) -> None:\n",
    "    \"\"\"Takes as input an integer and prints all odd numbers that are smaller or equal to n\"\"\"\n",
    "    for i in range(n):\n",
    "        if not is_even(i):\n",
    "            print(i)"
   ]
  },
  {
   "cell_type": "code",
   "execution_count": 29,
   "metadata": {},
   "outputs": [
    {
     "name": "stdout",
     "output_type": "stream",
     "text": [
      "1\n",
      "3\n",
      "5\n",
      "7\n",
      "9\n"
     ]
    }
   ],
   "source": [
    "print_odd_numbers(10)"
   ]
  },
  {
   "cell_type": "code",
   "execution_count": null,
   "metadata": {},
   "outputs": [],
   "source": []
  }
 ],
 "metadata": {
  "kernelspec": {
   "display_name": "Python 3",
   "language": "python",
   "name": "python3"
  },
  "language_info": {
   "codemirror_mode": {
    "name": "ipython",
    "version": 3
   },
   "file_extension": ".py",
   "mimetype": "text/x-python",
   "name": "python",
   "nbconvert_exporter": "python",
   "pygments_lexer": "ipython3",
   "version": "3.8.2"
  }
 },
 "nbformat": 4,
 "nbformat_minor": 4
}
