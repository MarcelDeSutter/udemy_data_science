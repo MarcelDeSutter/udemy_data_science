{
 "cells": [
  {
   "cell_type": "code",
   "execution_count": 2,
   "metadata": {},
   "outputs": [],
   "source": [
    "import numpy as np\n",
    "from matplotlib import pyplot as plt\n",
    "import seaborn as sns\n",
    "sns.set()\n",
    "sns.set_context(\"notebook\")"
   ]
  },
  {
   "cell_type": "code",
   "execution_count": 9,
   "metadata": {},
   "outputs": [
    {
     "name": "stdout",
     "output_type": "stream",
     "text": [
      "0.2\n",
      "0.2\n"
     ]
    }
   ],
   "source": [
    "def mean(x: np.array) -> float:\n",
    "    return sum(x)/len(x)\n",
    "\n",
    "print(mean(bernoulli_sample))\n",
    "print(np.mean(bernoulli_sample))"
   ]
  },
  {
   "cell_type": "code",
   "execution_count": 31,
   "metadata": {},
   "outputs": [
    {
     "data": {
      "image/png": "[encoded data removed]",
      "text/plain": [
       "<Figure size 432x288 with 1 Axes>"
      ]
     },
     "metadata": {},
     "output_type": "display_data"
    }
   ],
   "source": [
    "from scipy.stats import bernoulli\n",
    "\n",
    "p = 0.3\n",
    "n_samples = 10\n",
    "\n",
    "bernoulli_sample = bernoulli.rvs(size = n_samples, p = p)\n",
    "\n",
    "plt.hist(bernoulli_sample, edgecolor = \"black\")\n",
    "plt.xlabel(\"Zahl = 0; Kopf = 1\")\n",
    "plt.ylabel(\"Häufigkeit\")\n",
    "plt.xlim(-0.5, 1.5);\n",
    "plt.ylim(0, n_samples)\n",
    "plt.xticks([0, 1], [0, 1]);\n",
    "plt.legend([\"Münzwürfe\"]);"
   ]
  },
  {
   "cell_type": "code",
   "execution_count": 59,
   "metadata": {},
   "outputs": [
    {
     "name": "stdout",
     "output_type": "stream",
     "text": [
      "[0.1, 0.3, 0.5, 0.4, 0.4, 0.3, 0.3, 0.1, 0.1, 0.6]\n",
      "0.5\n"
     ]
    }
   ],
   "source": [
    "n_samples = 10\n",
    "\n",
    "means_samples = [mean(bernoulli.rvs(size = n_samples, p = p)) for i in range(10)]\n",
    "print(means_samples)\n",
    "print(max(means_samples)-min(means_samples))"
   ]
  },
  {
   "cell_type": "code",
   "execution_count": 60,
   "metadata": {},
   "outputs": [
    {
     "name": "stdout",
     "output_type": "stream",
     "text": [
      "[0.2973, 0.2944, 0.2926, 0.2976, 0.312, 0.3013, 0.2957, 0.3005, 0.2976, 0.2967]\n",
      "0.019399999999999973\n"
     ]
    }
   ],
   "source": [
    "n_samples = 10000\n",
    "\n",
    "means_samples = [mean(bernoulli.rvs(size = n_samples, p = p)) for i in range(10)]\n",
    "print(means_samples)\n",
    "print(max(means_samples)-min(means_samples))"
   ]
  },
  {
   "cell_type": "code",
   "execution_count": 65,
   "metadata": {},
   "outputs": [
    {
     "data": {
      "image/png": "[encoded data removed]",
      "text/plain": [
       "<Figure size 432x288 with 1 Axes>"
      ]
     },
     "metadata": {},
     "output_type": "display_data"
    }
   ],
   "source": [
    "p = 0.3\n",
    "n_samples = 10000\n",
    "\n",
    "bernoulli_sample = bernoulli.rvs(size = n_samples, p = p)\n",
    "\n",
    "plt.hist(bernoulli_sample, edgecolor = \"black\")\n",
    "plt.xlabel(\"Zahl = 0; Kopf = 1\")\n",
    "plt.ylabel(\"Häufigkeit\")\n",
    "plt.xlim(-0.5, 1.5);\n",
    "plt.ylim(0, n_samples);\n",
    "plt.xticks([0, 1], [0, 1]);\n",
    "plt.legend([\"Münzwürfe\"]);"
   ]
  },
  {
   "cell_type": "code",
   "execution_count": 70,
   "metadata": {},
   "outputs": [
    {
     "data": {
      "text/plain": [
       "array([-1.41264135, -0.31677854, -1.00446212, -0.1302536 ,  1.28709571,\n",
       "        0.9260424 ,  0.05639532, -0.99835037,  0.73381437, -0.10615991])"
      ]
     },
     "execution_count": 70,
     "metadata": {},
     "output_type": "execute_result"
    }
   ],
   "source": [
    "mu = 0\n",
    "sigma = 1\n",
    "n_samples = 10\n",
    "\n",
    "normal_sample = np.random.normal(mu, sigma, n_samples)\n",
    "normal_sample"
   ]
  },
  {
   "cell_type": "code",
   "execution_count": 85,
   "metadata": {},
   "outputs": [
    {
     "name": "stdout",
     "output_type": "stream",
     "text": [
      "[0.33623934658125576, 0.048089190728061754, 0.028828607156080644, -0.0994662239123818, -0.20632747207127408, 0.058264818873552615, -0.44536651309904557, 0.3169280407961933, -0.12473862949153698, 0.2530517958961135]\n",
      "0.7816058596803013\n"
     ]
    }
   ],
   "source": [
    "n_samples = 10\n",
    "\n",
    "means_samples = [mean(np.random.normal(mu, sigma, n_samples)) for i in range(10)]\n",
    "print(means_samples)\n",
    "print(max(means_samples)-min(means_samples))"
   ]
  },
  {
   "cell_type": "code",
   "execution_count": 89,
   "metadata": {},
   "outputs": [
    {
     "name": "stdout",
     "output_type": "stream",
     "text": [
      "[0.0009795408617692667, -0.004202152866989583, 0.013832364261183429, -0.008009118423987164, -0.01719240170870045, 0.00048270298148588535, -0.017185013501685095, 0.006508791065721916, 0.008568876033146109, -0.02705061716116824]\n",
      "0.040882981422351666\n"
     ]
    }
   ],
   "source": [
    "n_samples = 10000\n",
    "\n",
    "means_samples = [mean(np.random.normal(mu, sigma, n_samples)) for i in range(10)]\n",
    "print(means_samples)\n",
    "print(max(means_samples)-min(means_samples))"
   ]
  },
  {
   "cell_type": "code",
   "execution_count": 93,
   "metadata": {},
   "outputs": [
    {
     "data": {
      "image/png": "[encoded data removed]",
      "text/plain": [
       "<Figure size 432x288 with 1 Axes>"
      ]
     },
     "metadata": {},
     "output_type": "display_data"
    }
   ],
   "source": [
    "mu = 0\n",
    "sigma = 1\n",
    "n_samples = 10000\n",
    "\n",
    "normal_sample = np.random.normal(mu, sigma, n_samples)\n",
    "\n",
    "plt.hist(normal_sample, bins = int(1 + 3.3*np.log(len(normal_sample))))\n",
    "plt.xlabel(\"Wert\")\n",
    "plt.xlim(min(normal_sample) - 1, max(normal_sample) + 1)\n",
    "plt.ylabel(\"Häufigkeit\")\n",
    "plt.legend([f\"$N({mu},{sigma}^2)$\"]);"
   ]
  },
  {
   "cell_type": "code",
   "execution_count": null,
   "metadata": {},
   "outputs": [],
   "source": []
  }
 ],
 "metadata": {
  "kernelspec": {
   "display_name": "Python 3",
   "language": "python",
   "name": "python3"
  },
  "language_info": {
   "codemirror_mode": {
    "name": "ipython",
    "version": 3
   },
   "file_extension": ".py",
   "mimetype": "text/x-python",
   "name": "python",
   "nbconvert_exporter": "python",
   "pygments_lexer": "ipython3",
   "version": "3.8.2"
  }
 },
 "nbformat": 4,
 "nbformat_minor": 4
}
