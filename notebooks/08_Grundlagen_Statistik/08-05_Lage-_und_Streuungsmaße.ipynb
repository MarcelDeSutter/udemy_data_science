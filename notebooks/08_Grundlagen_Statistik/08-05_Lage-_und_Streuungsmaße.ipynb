{
 "cells": [
  {
   "cell_type": "code",
   "execution_count": 1,
   "metadata": {},
   "outputs": [],
   "source": [
    "import numpy as np\n",
    "from matplotlib import pyplot as plt\n",
    "import seaborn as sns\n",
    "sns.set()\n",
    "sns.set_context(\"notebook\")"
   ]
  },
  {
   "cell_type": "code",
   "execution_count": 3,
   "metadata": {},
   "outputs": [],
   "source": [
    "def mean(x: np.array) -> float:\n",
    "    return sum(x)/len(x)"
   ]
  },
  {
   "cell_type": "code",
   "execution_count": 6,
   "metadata": {},
   "outputs": [
    {
     "data": {
      "text/plain": [
       "5.279999999999999"
      ]
     },
     "execution_count": 6,
     "metadata": {},
     "output_type": "execute_result"
    }
   ],
   "source": [
    "daten = [5.2, 4.8, 4.8, 6.1, 5.5]\n",
    "mean(daten)"
   ]
  },
  {
   "cell_type": "code",
   "execution_count": 7,
   "metadata": {},
   "outputs": [
    {
     "data": {
      "text/plain": [
       "21.066666666666666"
      ]
     },
     "execution_count": 7,
     "metadata": {},
     "output_type": "execute_result"
    }
   ],
   "source": [
    "mean(daten + [100])"
   ]
  },
  {
   "cell_type": "code",
   "execution_count": 8,
   "metadata": {},
   "outputs": [
    {
     "data": {
      "image/png": "[encoded data removed]",
      "text/plain": [
       "<Figure size 432x288 with 1 Axes>"
      ]
     },
     "metadata": {},
     "output_type": "display_data"
    }
   ],
   "source": [
    "from scipy.stats import bernoulli\n",
    "\n",
    "p = 0.3\n",
    "n_samples = 10\n",
    "\n",
    "bernoulli_sample = bernoulli.rvs(size = n_samples, p = p)\n",
    "\n",
    "plt.hist(bernoulli_sample, edgecolor = \"black\")\n",
    "plt.xlabel(\"Zahl = 0; Kopf = 1\")\n",
    "plt.ylabel(\"Häufigkeit\")\n",
    "plt.xlim(-0.5, 1.5);\n",
    "plt.ylim(0, n_samples)\n",
    "plt.xticks([0, 1], [0, 1]);\n",
    "plt.legend([\"Münzwürfe\"]);"
   ]
  },
  {
   "cell_type": "code",
   "execution_count": 54,
   "metadata": {},
   "outputs": [
    {
     "name": "stdout",
     "output_type": "stream",
     "text": [
      "[0.4, 0.1, 0.2, 0.1, 0.5, 0.3, 0.2, 0.2, 0.7, 0.4]\n",
      "0.6\n"
     ]
    }
   ],
   "source": [
    "n_samples = 10\n",
    "\n",
    "means_samples = [mean(bernoulli.rvs(size = n_samples, p = p)) for i in range(10)]\n",
    "print(means_samples)\n",
    "print(max(means_samples)-min(means_samples))"
   ]
  },
  {
   "cell_type": "code",
   "execution_count": 57,
   "metadata": {},
   "outputs": [
    {
     "name": "stdout",
     "output_type": "stream",
     "text": [
      "[0.2983, 0.3007, 0.2978, 0.3074, 0.2946, 0.3041, 0.3004, 0.3035, 0.3064, 0.2944]\n",
      "0.013000000000000012\n"
     ]
    }
   ],
   "source": [
    "n_samples = 10000\n",
    "\n",
    "means_samples = [mean(bernoulli.rvs(size = n_samples, p = p)) for i in range(10)]\n",
    "print(means_samples)\n",
    "print(max(means_samples)-min(means_samples))"
   ]
  },
  {
   "cell_type": "code",
   "execution_count": 64,
   "metadata": {},
   "outputs": [
    {
     "data": {
      "image/png": "[encoded data removed]",
      "text/plain": [
       "<Figure size 432x288 with 1 Axes>"
      ]
     },
     "metadata": {},
     "output_type": "display_data"
    }
   ],
   "source": [
    "p = 0.3\n",
    "n_samples = 10000\n",
    "\n",
    "bernoulli_sample = bernoulli.rvs(size = n_samples, p = p)\n",
    "\n",
    "plt.hist(bernoulli_sample, edgecolor = \"black\")\n",
    "plt.xlabel(\"Zahl = 0; Kopf = 1\")\n",
    "plt.ylabel(\"Häufigkeit\")\n",
    "plt.xlim(-0.5, 1.5);\n",
    "plt.ylim(0, n_samples);\n",
    "plt.xticks([0, 1], [0, 1]);\n",
    "plt.legend([\"Münzwürfe\"]);"
   ]
  },
  {
   "cell_type": "code",
   "execution_count": 65,
   "metadata": {},
   "outputs": [
    {
     "data": {
      "text/plain": [
       "array([ 0.01675935,  0.16899508, -0.22583083, -1.61216439,  0.53900368,\n",
       "       -2.47825143,  0.10065701,  0.74748927, -0.71822129,  0.69947379])"
      ]
     },
     "execution_count": 65,
     "metadata": {},
     "output_type": "execute_result"
    }
   ],
   "source": [
    "mu = 0\n",
    "sigma = 1\n",
    "n_samples = 10\n",
    "\n",
    "normal_sample = np.random.normal(mu, sigma, n_samples)\n",
    "normal_sample"
   ]
  },
  {
   "cell_type": "code",
   "execution_count": 66,
   "metadata": {},
   "outputs": [
    {
     "name": "stdout",
     "output_type": "stream",
     "text": [
      "[0.004965365650492537, -0.3097914029400551, -0.15242630364744633, 0.1306005020379645, 0.3823519411837923, 0.03834296205530889, -0.005218700722037594, 0.4001318784106568, -0.15619049863102213, 0.4477766152735342]\n",
      "0.7575680182135893\n"
     ]
    }
   ],
   "source": [
    "n_samples = 10\n",
    "\n",
    "means_samples = [mean(np.random.normal(mu, sigma, n_samples)) for i in range(10)]\n",
    "print(means_samples)\n",
    "print(max(means_samples)-min(means_samples))"
   ]
  },
  {
   "cell_type": "code",
   "execution_count": 67,
   "metadata": {},
   "outputs": [
    {
     "name": "stdout",
     "output_type": "stream",
     "text": [
      "[-0.0010244631108439163, 0.02467656221643869, 0.01596045677033776, -0.007175615501497269, 0.0002398519890519634, 0.014656393624409184, 0.012903764738542708, 0.002247037523095188, 0.010703448202294075, 0.008262869446850356]\n",
      "0.031852177717935956\n"
     ]
    }
   ],
   "source": [
    "n_samples = 10000\n",
    "\n",
    "means_samples = [mean(np.random.normal(mu, sigma, n_samples)) for i in range(10)]\n",
    "print(means_samples)\n",
    "print(max(means_samples)-min(means_samples))"
   ]
  },
  {
   "cell_type": "code",
   "execution_count": 68,
   "metadata": {},
   "outputs": [
    {
     "data": {
      "image/png": "[encoded data removed]",
      "text/plain": [
       "<Figure size 432x288 with 1 Axes>"
      ]
     },
     "metadata": {},
     "output_type": "display_data"
    }
   ],
   "source": [
    "mu = 0\n",
    "sigma = 1\n",
    "n_samples = 10000\n",
    "\n",
    "normal_sample = np.random.normal(mu, sigma, n_samples)\n",
    "\n",
    "plt.hist(normal_sample, bins = int(1 + 3.3*np.log(len(normal_sample))))\n",
    "plt.xlabel(\"Wert\")\n",
    "plt.xlim(min(normal_sample) - 1, max(normal_sample) + 1)\n",
    "plt.ylabel(\"Häufigkeit\")\n",
    "plt.legend([f\"$N({mu},{sigma}^2)$\"]);"
   ]
  },
  {
   "cell_type": "code",
   "execution_count": 91,
   "metadata": {},
   "outputs": [],
   "source": [
    "def median(x: np.array) -> float:\n",
    "    x.sort()\n",
    "    n_elements = len(x)\n",
    "    is_even = len(x) % 2 == 0\n",
    "    half_idx = int(len(x) / 2)\n",
    "    if is_even:\n",
    "        return (x[half_idx - 1] + x[half_idx])/2\n",
    "    else:\n",
    "        return x[half_idx]"
   ]
  },
  {
   "cell_type": "code",
   "execution_count": 101,
   "metadata": {},
   "outputs": [
    {
     "name": "stdout",
     "output_type": "stream",
     "text": [
      "3.1\n",
      "3.1\n"
     ]
    }
   ],
   "source": [
    "daten = [3.1, 1.4, 2.8, 4.1, 6.3]\n",
    "\n",
    "print(np.median(daten))\n",
    "print(median(daten))"
   ]
  },
  {
   "cell_type": "code",
   "execution_count": 100,
   "metadata": {},
   "outputs": [
    {
     "name": "stdout",
     "output_type": "stream",
     "text": [
      "2.95\n",
      "2.95\n"
     ]
    }
   ],
   "source": [
    "daten = [3.1, 1.4, 2.8, 4.1]\n",
    "\n",
    "print(np.median(daten))\n",
    "print(median(daten))"
   ]
  },
  {
   "cell_type": "code",
   "execution_count": 105,
   "metadata": {},
   "outputs": [
    {
     "data": {
      "image/png": "[encoded data removed]",
      "text/plain": [
       "<Figure size 1152x288 with 2 Axes>"
      ]
     },
     "metadata": {},
     "output_type": "display_data"
    }
   ],
   "source": [
    "from scipy.stats import expon\n",
    "\n",
    "rate = 4\n",
    "\n",
    "plt.figure(figsize = (16, 4))\n",
    "plt.subplot(1, 2, 1)\n",
    "x = np.linspace(0, rate*3, 100)\n",
    "y_pdf = expon.pdf(x, scale = rate)\n",
    "plt.plot(x, y_pdf, label = f\"Exponential $\\lambda={rate}$\")\n",
    "plt.ylabel(\"Wahrscheinlichkeit\")\n",
    "plt.xlabel(\"Wert\")\n",
    "plt.title(\"Probability Density Function\")\n",
    "plt.legend();\n",
    "\n",
    "plt.subplot(1, 2, 2)\n",
    "y_cdf = expon.cdf(x, scale = rate)\n",
    "plt.plot(x, y_cdf, label = f\"Exponential $\\lambda={rate}$\")\n",
    "plt.ylabel(\"Kumulierte Wahrscheinlichkeit\")\n",
    "plt.xlabel(\"Wert\")\n",
    "plt.title(\"Cumulative Distribution Function\")\n",
    "plt.legend();"
   ]
  },
  {
   "cell_type": "code",
   "execution_count": 108,
   "metadata": {},
   "outputs": [
    {
     "name": "stdout",
     "output_type": "stream",
     "text": [
      "lambda = 3.9991826580140075\n"
     ]
    }
   ],
   "source": [
    "sample =  np.random.exponential(4, 10000)\n",
    "loc, rate = expon.fit(sample)\n",
    "print(f\"lambda = {rate}\")\n",
    "\n",
    "x = np.linspace(min(sample) - 1, max(sample) + 1, 100)\n",
    "pdf = expon.pdf(x, loc = loc, scale = rate)\n",
    "cdf = expon.cdf(x, loc = loc, scale = rate)\n",
    "\n",
    "cdf_ = np.linspace(start = 0, stop = 1, num = 100)\n",
    "x_ = expon.ppf(cdf_, loc = loc, scale = rate)"
   ]
  },
  {
   "cell_type": "code",
   "execution_count": 111,
   "metadata": {},
   "outputs": [
    {
     "name": "stdout",
     "output_type": "stream",
     "text": [
      "2.77284165577063\n"
     ]
    },
    {
     "data": {
      "image/png": "[encoded data removed]",
      "text/plain": [
       "<Figure size 432x288 with 1 Axes>"
      ]
     },
     "metadata": {},
     "output_type": "display_data"
    }
   ],
   "source": [
    "x_50 = expon.ppf(0.50, loc = loc, scale = rate)\n",
    "print(x_50)\n",
    "\n",
    "plt.plot(x, cdf)\n",
    "plt.hlines(.50, min(sample)-1, x_50, linestyle = \":\")\n",
    "plt.vlines(x_50, 0, .50, linestyle = \":\")\n",
    "plt.xlim(0, 15)\n",
    "plt.xlabel(\"X\")\n",
    "plt.ylabel(\"CDF = P(x <= X)\");"
   ]
  },
  {
   "cell_type": "code",
   "execution_count": 112,
   "metadata": {},
   "outputs": [
    {
     "data": {
      "text/plain": [
       "2.794456329823923"
      ]
     },
     "execution_count": 112,
     "metadata": {},
     "output_type": "execute_result"
    }
   ],
   "source": [
    "median(sample)"
   ]
  },
  {
   "cell_type": "code",
   "execution_count": 162,
   "metadata": {},
   "outputs": [],
   "source": [
    "def mode(x):\n",
    "    counts = {}\n",
    "    for element in x:\n",
    "        if element not in counts:\n",
    "            counts[element] = 1\n",
    "        else:\n",
    "            counts[element] += 1\n",
    "    max_count = max(counts.values())\n",
    "    modes = [key for key, value in counts.items() if value == max_count]\n",
    "    \n",
    "    return modes"
   ]
  },
  {
   "cell_type": "code",
   "execution_count": 165,
   "metadata": {},
   "outputs": [
    {
     "data": {
      "text/plain": [
       "[3]"
      ]
     },
     "execution_count": 165,
     "metadata": {},
     "output_type": "execute_result"
    }
   ],
   "source": [
    "daten = [3, 1, 2, 3]\n",
    "\n",
    "mode(daten)"
   ]
  },
  {
   "cell_type": "code",
   "execution_count": 166,
   "metadata": {},
   "outputs": [
    {
     "data": {
      "text/plain": [
       "[3, 2]"
      ]
     },
     "execution_count": 166,
     "metadata": {},
     "output_type": "execute_result"
    }
   ],
   "source": [
    "daten = [3, 1, 2, 3, 2]\n",
    "\n",
    "mode(daten)"
   ]
  },
  {
   "cell_type": "code",
   "execution_count": null,
   "metadata": {},
   "outputs": [],
   "source": []
  }
 ],
 "metadata": {
  "kernelspec": {
   "display_name": "Python 3",
   "language": "python",
   "name": "python3"
  },
  "language_info": {
   "codemirror_mode": {
    "name": "ipython",
    "version": 3
   },
   "file_extension": ".py",
   "mimetype": "text/x-python",
   "name": "python",
   "nbconvert_exporter": "python",
   "pygments_lexer": "ipython3",
   "version": "3.8.2"
  }
 },
 "nbformat": 4,
 "nbformat_minor": 4
}
