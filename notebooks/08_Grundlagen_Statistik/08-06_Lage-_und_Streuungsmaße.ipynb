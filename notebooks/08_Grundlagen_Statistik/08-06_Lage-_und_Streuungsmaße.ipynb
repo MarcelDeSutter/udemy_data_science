{
 "cells": [
  {
   "cell_type": "code",
   "execution_count": 1,
   "metadata": {},
   "outputs": [],
   "source": [
    "import numpy as np\n",
    "from matplotlib import pyplot as plt\n",
    "import seaborn as sns\n",
    "sns.set()\n",
    "sns.set_context(\"notebook\")"
   ]
  },
  {
   "cell_type": "code",
   "execution_count": 2,
   "metadata": {},
   "outputs": [],
   "source": [
    "def mean(x: np.array) -> float:\n",
    "    return sum(x)/len(x)"
   ]
  },
  {
   "cell_type": "code",
   "execution_count": 3,
   "metadata": {},
   "outputs": [
    {
     "data": {
      "text/plain": [
       "5.279999999999999"
      ]
     },
     "execution_count": 3,
     "metadata": {},
     "output_type": "execute_result"
    }
   ],
   "source": [
    "daten = [5.2, 4.8, 4.8, 6.1, 5.5]\n",
    "mean(daten)"
   ]
  },
  {
   "cell_type": "code",
   "execution_count": 4,
   "metadata": {},
   "outputs": [
    {
     "data": {
      "text/plain": [
       "21.066666666666666"
      ]
     },
     "execution_count": 4,
     "metadata": {},
     "output_type": "execute_result"
    }
   ],
   "source": [
    "mean(daten + [100])"
   ]
  },
  {
   "cell_type": "code",
   "execution_count": 5,
   "metadata": {},
   "outputs": [
    {
     "data": {
      "image/png": "[encoded data removed]",
      "text/plain": [
       "<Figure size 432x288 with 1 Axes>"
      ]
     },
     "metadata": {},
     "output_type": "display_data"
    }
   ],
   "source": [
    "from scipy.stats import bernoulli\n",
    "\n",
    "p = 0.3\n",
    "n_samples = 10\n",
    "\n",
    "bernoulli_sample = bernoulli.rvs(size = n_samples, p = p)\n",
    "\n",
    "plt.hist(bernoulli_sample, edgecolor = \"black\")\n",
    "plt.xlabel(\"Zahl = 0; Kopf = 1\")\n",
    "plt.ylabel(\"Häufigkeit\")\n",
    "plt.xlim(-0.5, 1.5);\n",
    "plt.ylim(0, n_samples)\n",
    "plt.xticks([0, 1], [0, 1]);\n",
    "plt.legend([\"Münzwürfe\"]);"
   ]
  },
  {
   "cell_type": "code",
   "execution_count": 6,
   "metadata": {},
   "outputs": [
    {
     "name": "stdout",
     "output_type": "stream",
     "text": [
      "[0.4, 0.6, 0.7, 0.3, 0.5, 0.2, 0.3, 0.2, 0.5, 0.3]\n",
      "0.49999999999999994\n"
     ]
    }
   ],
   "source": [
    "n_samples = 10\n",
    "\n",
    "means_samples = [mean(bernoulli.rvs(size = n_samples, p = p)) for i in range(10)]\n",
    "print(means_samples)\n",
    "print(max(means_samples)-min(means_samples))"
   ]
  },
  {
   "cell_type": "code",
   "execution_count": 7,
   "metadata": {},
   "outputs": [
    {
     "name": "stdout",
     "output_type": "stream",
     "text": [
      "[0.299, 0.3016, 0.3016, 0.2989, 0.2952, 0.3018, 0.2988, 0.2968, 0.3072, 0.2993]\n",
      "0.011999999999999955\n"
     ]
    }
   ],
   "source": [
    "n_samples = 10000\n",
    "\n",
    "means_samples = [mean(bernoulli.rvs(size = n_samples, p = p)) for i in range(10)]\n",
    "print(means_samples)\n",
    "print(max(means_samples)-min(means_samples))"
   ]
  },
  {
   "cell_type": "code",
   "execution_count": 8,
   "metadata": {},
   "outputs": [
    {
     "data": {
      "image/png": "[encoded data removed]",
      "text/plain": [
       "<Figure size 432x288 with 1 Axes>"
      ]
     },
     "metadata": {},
     "output_type": "display_data"
    }
   ],
   "source": [
    "p = 0.3\n",
    "n_samples = 10000\n",
    "\n",
    "bernoulli_sample = bernoulli.rvs(size = n_samples, p = p)\n",
    "\n",
    "plt.hist(bernoulli_sample, edgecolor = \"black\")\n",
    "plt.xlabel(\"Zahl = 0; Kopf = 1\")\n",
    "plt.ylabel(\"Häufigkeit\")\n",
    "plt.xlim(-0.5, 1.5);\n",
    "plt.ylim(0, n_samples);\n",
    "plt.xticks([0, 1], [0, 1]);\n",
    "plt.legend([\"Münzwürfe\"]);"
   ]
  },
  {
   "cell_type": "code",
   "execution_count": 9,
   "metadata": {},
   "outputs": [
    {
     "data": {
      "text/plain": [
       "array([-1.5124449 ,  0.07444519,  1.65147798, -1.43793617, -1.50339579,\n",
       "       -0.36115532,  0.47944496, -0.51009124,  0.76432391, -0.99552863])"
      ]
     },
     "execution_count": 9,
     "metadata": {},
     "output_type": "execute_result"
    }
   ],
   "source": [
    "mu = 0\n",
    "sigma = 1\n",
    "n_samples = 10\n",
    "\n",
    "normal_sample = np.random.normal(mu, sigma, n_samples)\n",
    "normal_sample"
   ]
  },
  {
   "cell_type": "code",
   "execution_count": 10,
   "metadata": {},
   "outputs": [
    {
     "name": "stdout",
     "output_type": "stream",
     "text": [
      "[-0.4595548712972694, 0.09373170220845176, -0.2594886080388737, -0.30578906136115397, -0.29679645845868213, 0.026678930061407667, -0.540928584399113, 0.008300461135313486, -0.5154633689624228, -0.05130696303427975]\n",
      "0.6346602866075647\n"
     ]
    }
   ],
   "source": [
    "n_samples = 10\n",
    "\n",
    "means_samples = [mean(np.random.normal(mu, sigma, n_samples)) for i in range(10)]\n",
    "print(means_samples)\n",
    "print(max(means_samples)-min(means_samples))"
   ]
  },
  {
   "cell_type": "code",
   "execution_count": 11,
   "metadata": {},
   "outputs": [
    {
     "name": "stdout",
     "output_type": "stream",
     "text": [
      "[-0.00894349743963283, 0.004986250484283124, 0.007055330251592293, 0.0014959746540221816, 0.011750784839906518, -0.011179911406307905, 0.0013620067527071976, -9.996008171861894e-05, -0.009784419939586677, -0.0025139978903778552]\n",
      "0.022930696246214424\n"
     ]
    }
   ],
   "source": [
    "n_samples = 10000\n",
    "\n",
    "means_samples = [mean(np.random.normal(mu, sigma, n_samples)) for i in range(10)]\n",
    "print(means_samples)\n",
    "print(max(means_samples)-min(means_samples))"
   ]
  },
  {
   "cell_type": "code",
   "execution_count": 12,
   "metadata": {},
   "outputs": [
    {
     "data": {
      "image/png": "[encoded data removed]",
      "text/plain": [
       "<Figure size 432x288 with 1 Axes>"
      ]
     },
     "metadata": {},
     "output_type": "display_data"
    }
   ],
   "source": [
    "mu = 0\n",
    "sigma = 1\n",
    "n_samples = 10000\n",
    "\n",
    "normal_sample = np.random.normal(mu, sigma, n_samples)\n",
    "\n",
    "plt.hist(normal_sample, bins = int(1 + 3.3*np.log(len(normal_sample))))\n",
    "plt.xlabel(\"Wert\")\n",
    "plt.xlim(min(normal_sample) - 1, max(normal_sample) + 1)\n",
    "plt.ylabel(\"Häufigkeit\")\n",
    "plt.legend([f\"$N({mu},{sigma}^2)$\"]);"
   ]
  },
  {
   "cell_type": "code",
   "execution_count": 13,
   "metadata": {},
   "outputs": [],
   "source": [
    "def median(x: np.array) -> float:\n",
    "    x.sort()\n",
    "    n_elements = len(x)\n",
    "    is_even = len(x) % 2 == 0\n",
    "    half_idx = int(len(x) / 2)\n",
    "    if is_even:\n",
    "        return (x[half_idx - 1] + x[half_idx])/2\n",
    "    else:\n",
    "        return x[half_idx]"
   ]
  },
  {
   "cell_type": "code",
   "execution_count": 14,
   "metadata": {},
   "outputs": [
    {
     "name": "stdout",
     "output_type": "stream",
     "text": [
      "3.1\n",
      "3.1\n"
     ]
    }
   ],
   "source": [
    "daten = [3.1, 1.4, 2.8, 4.1, 6.3]\n",
    "\n",
    "print(np.median(daten))\n",
    "print(median(daten))"
   ]
  },
  {
   "cell_type": "code",
   "execution_count": 15,
   "metadata": {},
   "outputs": [
    {
     "name": "stdout",
     "output_type": "stream",
     "text": [
      "2.95\n",
      "2.95\n"
     ]
    }
   ],
   "source": [
    "daten = [3.1, 1.4, 2.8, 4.1]\n",
    "\n",
    "print(np.median(daten))\n",
    "print(median(daten))"
   ]
  },
  {
   "cell_type": "code",
   "execution_count": 16,
   "metadata": {},
   "outputs": [
    {
     "data": {
      "image/png": "[encoded data removed]",
      "text/plain": [
       "<Figure size 1152x288 with 2 Axes>"
      ]
     },
     "metadata": {},
     "output_type": "display_data"
    }
   ],
   "source": [
    "from scipy.stats import expon\n",
    "\n",
    "rate = 4\n",
    "\n",
    "plt.figure(figsize = (16, 4))\n",
    "plt.subplot(1, 2, 1)\n",
    "x = np.linspace(0, rate*3, 100)\n",
    "y_pdf = expon.pdf(x, scale = rate)\n",
    "plt.plot(x, y_pdf, label = f\"Exponential $\\lambda={rate}$\")\n",
    "plt.ylabel(\"Wahrscheinlichkeit\")\n",
    "plt.xlabel(\"Wert\")\n",
    "plt.title(\"Probability Density Function\")\n",
    "plt.legend();\n",
    "\n",
    "plt.subplot(1, 2, 2)\n",
    "y_cdf = expon.cdf(x, scale = rate)\n",
    "plt.plot(x, y_cdf, label = f\"Exponential $\\lambda={rate}$\")\n",
    "plt.ylabel(\"Kumulierte Wahrscheinlichkeit\")\n",
    "plt.xlabel(\"Wert\")\n",
    "plt.title(\"Cumulative Distribution Function\")\n",
    "plt.legend();"
   ]
  },
  {
   "cell_type": "code",
   "execution_count": 17,
   "metadata": {},
   "outputs": [
    {
     "name": "stdout",
     "output_type": "stream",
     "text": [
      "lambda = 3.9570323242962435\n"
     ]
    }
   ],
   "source": [
    "sample =  np.random.exponential(4, 10000)\n",
    "loc, rate = expon.fit(sample)\n",
    "print(f\"lambda = {rate}\")\n",
    "\n",
    "x = np.linspace(min(sample) - 1, max(sample) + 1, 100)\n",
    "pdf = expon.pdf(x, loc = loc, scale = rate)\n",
    "cdf = expon.cdf(x, loc = loc, scale = rate)\n",
    "\n",
    "cdf_ = np.linspace(start = 0, stop = 1, num = 100)\n",
    "x_ = expon.ppf(cdf_, loc = loc, scale = rate)"
   ]
  },
  {
   "cell_type": "code",
   "execution_count": 18,
   "metadata": {},
   "outputs": [
    {
     "name": "stdout",
     "output_type": "stream",
     "text": [
      "2.7430023083834256\n"
     ]
    },
    {
     "data": {
      "image/png": "[encoded data removed]",
      "text/plain": [
       "<Figure size 432x288 with 1 Axes>"
      ]
     },
     "metadata": {},
     "output_type": "display_data"
    }
   ],
   "source": [
    "x_50 = expon.ppf(0.50, loc = loc, scale = rate)\n",
    "print(x_50)\n",
    "\n",
    "plt.plot(x, cdf)\n",
    "plt.hlines(.50, min(sample)-1, x_50, linestyle = \":\")\n",
    "plt.vlines(x_50, 0, .50, linestyle = \":\")\n",
    "plt.xlim(0, 15)\n",
    "plt.xlabel(\"X\")\n",
    "plt.ylabel(\"CDF = P(x <= X)\");"
   ]
  },
  {
   "cell_type": "code",
   "execution_count": 19,
   "metadata": {},
   "outputs": [
    {
     "data": {
      "text/plain": [
       "2.790860129094816"
      ]
     },
     "execution_count": 19,
     "metadata": {},
     "output_type": "execute_result"
    }
   ],
   "source": [
    "median(sample)"
   ]
  },
  {
   "cell_type": "code",
   "execution_count": 20,
   "metadata": {},
   "outputs": [],
   "source": [
    "def mode(x):\n",
    "    counts = {}\n",
    "    for element in x:\n",
    "        if element not in counts:\n",
    "            counts[element] = 1\n",
    "        else:\n",
    "            counts[element] += 1\n",
    "    max_count = max(counts.values())\n",
    "    modes = [key for key, value in counts.items() if value == max_count]\n",
    "    \n",
    "    return modes"
   ]
  },
  {
   "cell_type": "code",
   "execution_count": 21,
   "metadata": {},
   "outputs": [
    {
     "data": {
      "text/plain": [
       "[3]"
      ]
     },
     "execution_count": 21,
     "metadata": {},
     "output_type": "execute_result"
    }
   ],
   "source": [
    "daten = [3, 1, 2, 3]\n",
    "\n",
    "mode(daten)"
   ]
  },
  {
   "cell_type": "code",
   "execution_count": 22,
   "metadata": {},
   "outputs": [
    {
     "data": {
      "text/plain": [
       "[3, 2]"
      ]
     },
     "execution_count": 22,
     "metadata": {},
     "output_type": "execute_result"
    }
   ],
   "source": [
    "daten = [3, 1, 2, 3, 2]\n",
    "\n",
    "mode(daten)"
   ]
  },
  {
   "cell_type": "code",
   "execution_count": 23,
   "metadata": {},
   "outputs": [],
   "source": [
    "def geom_mean(x):\n",
    "    x = np.array(x)\n",
    "    return x.prod()**(1.0/len(x))"
   ]
  },
  {
   "cell_type": "code",
   "execution_count": 24,
   "metadata": {},
   "outputs": [],
   "source": [
    "def geom_mean_alternative(x):\n",
    "    log = np.log(x)\n",
    "    logsum = log.sum()\n",
    "    geom_mean = np.exp(logsum/len(x))\n",
    "    return geom_mean"
   ]
  },
  {
   "cell_type": "code",
   "execution_count": 25,
   "metadata": {},
   "outputs": [
    {
     "name": "stdout",
     "output_type": "stream",
     "text": [
      "1.3910218760291486\n",
      "1.3910218760291486\n"
     ]
    }
   ],
   "source": [
    "daten = [1.5, 1.2, 1.3, 1.6]\n",
    "\n",
    "print(geom_mean(daten))\n",
    "print(geom_mean_alternative(daten))"
   ]
  },
  {
   "cell_type": "code",
   "execution_count": 26,
   "metadata": {},
   "outputs": [
    {
     "data": {
      "text/plain": [
       "1.3910218760291486"
      ]
     },
     "execution_count": 26,
     "metadata": {},
     "output_type": "execute_result"
    }
   ],
   "source": [
    "from scipy.stats import gmean\n",
    "\n",
    "gmean(daten)"
   ]
  },
  {
   "cell_type": "code",
   "execution_count": 27,
   "metadata": {},
   "outputs": [],
   "source": [
    "def harm_mean(x):\n",
    "    recip = np.ones(len(x))/x\n",
    "    recipsum = recip.sum()\n",
    "    return len(x)/recipsum"
   ]
  },
  {
   "cell_type": "code",
   "execution_count": 28,
   "metadata": {},
   "outputs": [
    {
     "data": {
      "text/plain": [
       "0.5843478260869565"
      ]
     },
     "execution_count": 28,
     "metadata": {},
     "output_type": "execute_result"
    }
   ],
   "source": [
    "daten = [0.8, 0.7, 0.4, 0.6]\n",
    "\n",
    "harm_mean(daten)"
   ]
  },
  {
   "cell_type": "code",
   "execution_count": 29,
   "metadata": {},
   "outputs": [
    {
     "data": {
      "text/plain": [
       "0.5843478260869565"
      ]
     },
     "execution_count": 29,
     "metadata": {},
     "output_type": "execute_result"
    }
   ],
   "source": [
    "from scipy.stats import hmean\n",
    "\n",
    "hmean(daten)"
   ]
  },
  {
   "cell_type": "code",
   "execution_count": 30,
   "metadata": {},
   "outputs": [
    {
     "name": "stdout",
     "output_type": "stream",
     "text": [
      "[ 3 13 15 18 21 29 34 40 48 50 51 67 67 67 69 78 85 87 95 96]\n"
     ]
    }
   ],
   "source": [
    "daten = np.random.randint(100, size = 20)\n",
    "\n",
    "daten = np.sort(daten)\n",
    "print(daten)"
   ]
  },
  {
   "cell_type": "code",
   "execution_count": 31,
   "metadata": {},
   "outputs": [
    {
     "data": {
      "text/plain": [
       "93"
      ]
     },
     "execution_count": 31,
     "metadata": {},
     "output_type": "execute_result"
    }
   ],
   "source": [
    "np.ptp(daten)"
   ]
  },
  {
   "cell_type": "code",
   "execution_count": 32,
   "metadata": {},
   "outputs": [],
   "source": [
    "def mean_abs_deviation(x):\n",
    "    x = np.array(x)\n",
    "    mean = x.mean()\n",
    "    abs_deviations = np.absolute(x - mean)\n",
    "    sum_abs_deviations = abs_deviations.sum()\n",
    "    return sum_abs_deviations/len(x)"
   ]
  },
  {
   "cell_type": "code",
   "execution_count": 33,
   "metadata": {},
   "outputs": [
    {
     "data": {
      "text/plain": [
       "24.615000000000002"
      ]
     },
     "execution_count": 33,
     "metadata": {},
     "output_type": "execute_result"
    }
   ],
   "source": [
    "mean_abs_deviation(daten)"
   ]
  },
  {
   "cell_type": "code",
   "execution_count": 34,
   "metadata": {},
   "outputs": [],
   "source": [
    "def variance(x):\n",
    "    x = np.array(x)\n",
    "    mean = x.mean()\n",
    "    squared_deviations = (x - mean)**2\n",
    "    sum_squared_deviations = squared_deviations.sum()\n",
    "    return sum_squared_deviations/(len(x))"
   ]
  },
  {
   "cell_type": "code",
   "execution_count": 35,
   "metadata": {},
   "outputs": [
    {
     "name": "stdout",
     "output_type": "stream",
     "text": [
      "808.1274999999998\n",
      "808.1274999999998\n"
     ]
    }
   ],
   "source": [
    "print(variance(daten))\n",
    "print(daten.var())"
   ]
  },
  {
   "cell_type": "code",
   "execution_count": 36,
   "metadata": {},
   "outputs": [],
   "source": [
    "def standard_deviation(x):\n",
    "    return np.sqrt(variance(x))"
   ]
  },
  {
   "cell_type": "code",
   "execution_count": 37,
   "metadata": {},
   "outputs": [
    {
     "name": "stdout",
     "output_type": "stream",
     "text": [
      "28.42758343581107\n",
      "28.42758343581107\n"
     ]
    }
   ],
   "source": [
    "print(standard_deviation(daten))\n",
    "print(daten.std())"
   ]
  },
  {
   "cell_type": "code",
   "execution_count": 43,
   "metadata": {},
   "outputs": [
    {
     "name": "stdout",
     "output_type": "stream",
     "text": [
      "[0.9975769317332409, 0.991506236641049, 0.9992767976067737, 0.9968299640937346, 1.0018037649288698, 1.0031507303000002, 0.996615790063675, 1.000232984873527, 0.9906232037549142, 1.0028667614058284]\n",
      "0.012527526545086043\n"
     ]
    }
   ],
   "source": [
    "mu = 0\n",
    "sigma = 1\n",
    "n_samples = 10000\n",
    "\n",
    "sd_samples = [standard_deviation(np.random.normal(mu, sigma, n_samples)) for i in range(10)]\n",
    "print(sd_samples)\n",
    "print(max(sd_samples)-min(sd_samples))"
   ]
  },
  {
   "cell_type": "code",
   "execution_count": 45,
   "metadata": {},
   "outputs": [
    {
     "name": "stdout",
     "output_type": "stream",
     "text": [
      "Semivariance of X: 750.2134090909091\n",
      "Semideviation of X: 27.390023897231433\n"
     ]
    }
   ],
   "source": [
    "daten = [3, 13, 15, 18, 21, 29, 34, 40, 48, 50, 51, 67, 67, 67, 69, 78, 85, 87, 95, 96]\n",
    "mean_daten = mean(daten)\n",
    "lows = np.array([i for i in daten if i <= mean_daten])\n",
    "\n",
    "semivar = np.sum((lows - mean_daten)** 2) / len(lows)\n",
    "\n",
    "print(\"Semivariance of X:\", semivar)\n",
    "print(\"Semideviation of X:\", np.sqrt(semivar))"
   ]
  },
  {
   "cell_type": "code",
   "execution_count": 46,
   "metadata": {},
   "outputs": [
    {
     "name": "stdout",
     "output_type": "stream",
     "text": [
      "Target semivariance of X: 158.6\n",
      "Target semideviation of X: 12.593649193144932\n"
     ]
    }
   ],
   "source": [
    "b = 25\n",
    "lows = np.array([i for i in daten if i <= b])\n",
    "\n",
    "semivar_b = np.sum((lows - b)** 2) / len(lows)\n",
    "\n",
    "print(\"Target semivariance of X:\", semivar_b)\n",
    "print(\"Target semideviation of X:\", np.sqrt(semivar_b))"
   ]
  },
  {
   "cell_type": "code",
   "execution_count": null,
   "metadata": {},
   "outputs": [],
   "source": []
  }
 ],
 "metadata": {
  "kernelspec": {
   "display_name": "Python 3",
   "language": "python",
   "name": "python3"
  },
  "language_info": {
   "codemirror_mode": {
    "name": "ipython",
    "version": 3
   },
   "file_extension": ".py",
   "mimetype": "text/x-python",
   "name": "python",
   "nbconvert_exporter": "python",
   "pygments_lexer": "ipython3",
   "version": "3.8.2"
  }
 },
 "nbformat": 4,
 "nbformat_minor": 4
}
