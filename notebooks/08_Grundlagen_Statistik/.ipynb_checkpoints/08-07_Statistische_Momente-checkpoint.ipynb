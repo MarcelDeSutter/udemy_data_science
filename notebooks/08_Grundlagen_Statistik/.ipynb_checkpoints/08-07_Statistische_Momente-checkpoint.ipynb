{
 "cells": [
  {
   "cell_type": "markdown",
   "metadata": {},
   "source": [
    "$$m_{n,c}=\\int_{\\mathbb{R}}^{}(x-c)^n f(x)dx$$\n",
    "\n",
    "$$m_{0,c}=\\int_{\\mathbb{R}}^{}(x-c)^0 f(x)dx=\\int_{\\mathbb{R}}^{}f(x)dx=1$$\n",
    "\n",
    "$$\\mathbb{E}(X):=m_{1,0}=\\int_{\\mathbb{R}}^{}x f(x) dx$$\n",
    "\n",
    "$$\\mathbb{E}(X^n):=m_{n,0}=\\int_{\\mathbb{R}}^{}x^n f(x) dx$$\n",
    "\n",
    "$$\\mathbb{E}(g(X))=\\int_{\\mathbb{R}}^{}g(x) f(x) dx$$\n",
    "\n",
    "$$\\mathbb{E}(aX+b)=\\int_{\\mathbb{R}}^{}(ax+b) f(x) dx \\\\\n",
    "= \\int_{\\mathbb{R}}^{}axf(x) + bf(x)dx\\\\\n",
    "= \\int_{\\mathbb{R}}^{}axf(x)dx + \\int_{\\mathbb{R}}^{}bf(x)dx\\\\\n",
    "= a\\underbrace{\\int_{\\mathbb{R}}^{}xf(x)dx}_{=\\mathbb{E}(X)} + b\\underbrace{\\int_{\\mathbb{R}}^{}f(x)dx}_{=1}\\\\\n",
    "= a\\mathbb{E}(X)+b$$\n",
    "\n",
    "$$\\mathbb{V}(X):=m_{2,\\mathbb{E}(X)}=\\int_{\\mathbb{R}}^{}(x-\\mathbb{E}(X))^2 f(x) dx\\\\=\\mathbb{E}((X-\\mathbb{E}(X))^2)$$\n",
    "\n",
    "$$\\mathbb{V}(X)=\\mathbb{E}((X-\\mathbb{E}(X))^2)\\\\\n",
    "=\\mathbb{E}(X^2 -2X\\mathbb{E}(X)+\\mathbb{E}(X)^2)\\\\\n",
    "=\\mathbb{E}(X^2)-2\\mathbb{E}(X)\\mathbb{E}(X)+\\mathbb{E}(X)^2\\\\\n",
    "=\\mathbb{E}(X^2)-\\mathbb{E}(X)^2$$"
   ]
  },
  {
   "cell_type": "code",
   "execution_count": null,
   "metadata": {},
   "outputs": [],
   "source": []
  }
 ],
 "metadata": {
  "kernelspec": {
   "display_name": "Python 3",
   "language": "python",
   "name": "python3"
  },
  "language_info": {
   "codemirror_mode": {
    "name": "ipython",
    "version": 3
   },
   "file_extension": ".py",
   "mimetype": "text/x-python",
   "name": "python",
   "nbconvert_exporter": "python",
   "pygments_lexer": "ipython3",
   "version": "3.8.2"
  }
 },
 "nbformat": 4,
 "nbformat_minor": 4
}
