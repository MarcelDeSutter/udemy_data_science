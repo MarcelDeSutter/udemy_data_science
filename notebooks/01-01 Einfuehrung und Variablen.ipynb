{
 "cells": [
  {
   "cell_type": "code",
   "execution_count": 1,
   "metadata": {},
   "outputs": [
    {
     "name": "stdout",
     "output_type": "stream",
     "text": [
      "Hallo Welt\n"
     ]
    }
   ],
   "source": [
    "print(\"Hallo Welt\")"
   ]
  },
  {
   "cell_type": "code",
   "execution_count": 2,
   "metadata": {},
   "outputs": [
    {
     "data": {
      "text/plain": [
       "'Hallo Welt'"
      ]
     },
     "execution_count": 2,
     "metadata": {},
     "output_type": "execute_result"
    }
   ],
   "source": [
    "\"Hallo Welt\""
   ]
  },
  {
   "cell_type": "code",
   "execution_count": 4,
   "metadata": {},
   "outputs": [
    {
     "data": {
      "text/plain": [
       "'Ich bin ein angehender Data Scientist!'"
      ]
     },
     "execution_count": 4,
     "metadata": {},
     "output_type": "execute_result"
    }
   ],
   "source": [
    "\"Hallo Welt\"\n",
    "\"Ich bin ein angehender Data Scientist!\""
   ]
  },
  {
   "cell_type": "code",
   "execution_count": 5,
   "metadata": {},
   "outputs": [
    {
     "name": "stdout",
     "output_type": "stream",
     "text": [
      "Hallo Welt\n",
      "Ich bin ein angehender Data Scientist!\n"
     ]
    }
   ],
   "source": [
    "print(\"Hallo Welt\")\n",
    "print(\"Ich bin ein angehender Data Scientist!\")"
   ]
  },
  {
   "cell_type": "code",
   "execution_count": 12,
   "metadata": {},
   "outputs": [
    {
     "name": "stdout",
     "output_type": "stream",
     "text": [
      "3\n",
      "-1\n",
      "4\n",
      "2.0\n",
      "9\n",
      "1\n",
      "2\n"
     ]
    }
   ],
   "source": [
    "print(1 + 2)\n",
    "print(1 - 2)\n",
    "print(2 * 2)\n",
    "print(4 / 2)\n",
    "print(3**2)\n",
    "\n",
    "print(3 % 2)\n",
    "print(5 // 2)"
   ]
  },
  {
   "cell_type": "code",
   "execution_count": 13,
   "metadata": {},
   "outputs": [
    {
     "name": "stdout",
     "output_type": "stream",
     "text": [
      "Gängige Operationen\n",
      "1 + 2 ist:  3\n",
      "1 - 2 ist:  -1\n",
      "2 * 2 ist:  4\n",
      "4 / 2 ist:  2.0\n",
      "3 ** 2 ist:  9\n",
      "\n",
      "Modulo und Floor-Division\n",
      "3 % 2 ist:  1\n",
      "5 // 2 ist:  2\n"
     ]
    }
   ],
   "source": [
    "print(\"Gängige Operationen\")\n",
    "print(\"1 + 2 ist: \", 1 + 2) # Addition\n",
    "print(\"1 - 2 ist: \", 1 - 2) # Subtraktion\n",
    "print(\"2 * 2 ist: \", 2 * 2) # Multiplikation\n",
    "print(\"4 / 2 ist: \", 4 / 2) # Division\n",
    "print(\"3 ** 2 ist: \", 3**2) # Potenzierung\n",
    "\n",
    "print(\"\\nModulo und Floor-Division\")\n",
    "print(\"3 % 2 ist: \", 3 % 2) # Modulo (Division mit Rest)\n",
    "print(\"5 // 2 ist: \", 5 // 2) # Floor-Division"
   ]
  },
  {
   "cell_type": "code",
   "execution_count": 14,
   "metadata": {},
   "outputs": [],
   "source": [
    "a = 1"
   ]
  },
  {
   "cell_type": "code",
   "execution_count": 15,
   "metadata": {},
   "outputs": [
    {
     "data": {
      "text/plain": [
       "1"
      ]
     },
     "execution_count": 15,
     "metadata": {},
     "output_type": "execute_result"
    }
   ],
   "source": [
    "a"
   ]
  },
  {
   "cell_type": "code",
   "execution_count": 16,
   "metadata": {},
   "outputs": [
    {
     "name": "stdout",
     "output_type": "stream",
     "text": [
      "2\n",
      "2\n",
      "1.0\n"
     ]
    }
   ],
   "source": [
    "print(a + 1)\n",
    "print(a * 2)\n",
    "print(a / a)"
   ]
  },
  {
   "cell_type": "code",
   "execution_count": 17,
   "metadata": {},
   "outputs": [],
   "source": [
    "name = \"Marcel De Sutter\"\n",
    "alter = 24\n",
    "groesse = 1.7\n",
    "hat_haustiere = True"
   ]
  },
  {
   "cell_type": "code",
   "execution_count": 19,
   "metadata": {},
   "outputs": [
    {
     "name": "stdout",
     "output_type": "stream",
     "text": [
      "<class 'str'>\n",
      "<class 'int'>\n",
      "<class 'float'>\n",
      "<class 'bool'>\n"
     ]
    }
   ],
   "source": [
    "print(type(name))\n",
    "print(type(alter))\n",
    "print(type(groesse))\n",
    "print(type(hat_haustiere))"
   ]
  },
  {
   "cell_type": "code",
   "execution_count": 23,
   "metadata": {},
   "outputs": [
    {
     "name": "stdout",
     "output_type": "stream",
     "text": [
      "Mein Name ist Marcel De Sutter und ich bin  24 Jahre alt. Ich bin 1.7 m groß und dass ich Haustiere habe ist True .\n"
     ]
    }
   ],
   "source": [
    "print(\"Mein Name ist\", \n",
    "      name, \n",
    "      \"und ich bin \", \n",
    "      alter, \n",
    "      \"Jahre alt. Ich bin\", \n",
    "      groesse, \n",
    "      \"m groß und dass ich Haustiere habe ist\",\n",
    "      hat_haustiere,\n",
    "      \".\")"
   ]
  },
  {
   "cell_type": "code",
   "execution_count": 25,
   "metadata": {},
   "outputs": [
    {
     "name": "stdout",
     "output_type": "stream",
     "text": [
      "Mein Name ist Marcel De Sutter und ich bin 24 Jahre alt. Ich bin 1.7m groß und dass ich Haustiere habe ist True.\n"
     ]
    }
   ],
   "source": [
    "print(\"Mein Name ist {} und ich bin {} Jahre alt. Ich bin {}m groß und dass ich Haustiere habe ist {}.\"\n",
    "      .format(name, alter, groesse, hat_haustiere))"
   ]
  },
  {
   "cell_type": "code",
   "execution_count": 26,
   "metadata": {},
   "outputs": [
    {
     "name": "stdout",
     "output_type": "stream",
     "text": [
      "Mein Name ist Marcel De Sutter und ich bin 24 Jahre alt. Ich bin 1.7m groß und dass ich Haustiere habe ist True.\n"
     ]
    }
   ],
   "source": [
    "print(f\"Mein Name ist {name} und ich bin {alter} Jahre alt. Ich bin {groesse}m groß und dass ich Haustiere habe ist {hat_haustiere}.\")"
   ]
  },
  {
   "cell_type": "code",
   "execution_count": 34,
   "metadata": {},
   "outputs": [
    {
     "name": "stdout",
     "output_type": "stream",
     "text": [
      "Gib eine Zahl ein:1\n"
     ]
    },
    {
     "data": {
      "text/plain": [
       "'1'"
      ]
     },
     "execution_count": 34,
     "metadata": {},
     "output_type": "execute_result"
    }
   ],
   "source": [
    "input(\"Gib eine Zahl ein:\")"
   ]
  },
  {
   "cell_type": "code",
   "execution_count": 40,
   "metadata": {},
   "outputs": [
    {
     "data": {
      "text/plain": [
       "1.0"
      ]
     },
     "execution_count": 40,
     "metadata": {},
     "output_type": "execute_result"
    }
   ],
   "source": [
    "float(1)"
   ]
  },
  {
   "cell_type": "code",
   "execution_count": 41,
   "metadata": {},
   "outputs": [
    {
     "data": {
      "text/plain": [
       "2"
      ]
     },
     "execution_count": 41,
     "metadata": {},
     "output_type": "execute_result"
    }
   ],
   "source": [
    "int(2.6)"
   ]
  },
  {
   "cell_type": "code",
   "execution_count": 39,
   "metadata": {},
   "outputs": [
    {
     "data": {
      "text/plain": [
       "'1'"
      ]
     },
     "execution_count": 39,
     "metadata": {},
     "output_type": "execute_result"
    }
   ],
   "source": [
    "str(1)"
   ]
  },
  {
   "cell_type": "code",
   "execution_count": 36,
   "metadata": {},
   "outputs": [
    {
     "name": "stdout",
     "output_type": "stream",
     "text": [
      "Gib die Länge der ersten Seite ein (in cm): 2\n",
      "Gib die Länge der zweiten Seite ein (in cm): 2.3\n",
      "Der Flaecheninhalt des Rechtecks betraegt 4.6 cm^2\n"
     ]
    }
   ],
   "source": [
    "seite_a = float(input(\"Gib die Länge der ersten Seite ein (in cm): \"))\n",
    "seite_b = float(input(\"Gib die Länge der zweiten Seite ein (in cm): \"))\n",
    "\n",
    "print(f\"Der Flaecheninhalt des Rechtecks betraegt {seite_a * seite_b} cm^2.\")"
   ]
  },
  {
   "cell_type": "code",
   "execution_count": null,
   "metadata": {},
   "outputs": [],
   "source": []
  }
 ],
 "metadata": {
  "kernelspec": {
   "display_name": "Python 3",
   "language": "python",
   "name": "python3"
  },
  "language_info": {
   "codemirror_mode": {
    "name": "ipython",
    "version": 3
   },
   "file_extension": ".py",
   "mimetype": "text/x-python",
   "name": "python",
   "nbconvert_exporter": "python",
   "pygments_lexer": "ipython3",
   "version": "3.8.2"
  }
 },
 "nbformat": 4,
 "nbformat_minor": 4
}
