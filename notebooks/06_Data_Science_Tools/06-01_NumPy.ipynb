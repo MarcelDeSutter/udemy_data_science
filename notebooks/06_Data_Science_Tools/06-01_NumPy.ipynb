{
 "cells": [
  {
   "cell_type": "code",
   "execution_count": 1,
   "metadata": {},
   "outputs": [],
   "source": [
    "import numpy as np"
   ]
  },
  {
   "cell_type": "code",
   "execution_count": 2,
   "metadata": {},
   "outputs": [],
   "source": [
    "liste = [2, 3, 1, 4, 6]\n",
    "\n",
    "array = np.array(liste)"
   ]
  },
  {
   "cell_type": "code",
   "execution_count": 3,
   "metadata": {},
   "outputs": [
    {
     "name": "stdout",
     "output_type": "stream",
     "text": [
      "[2, 3, 1, 4, 6] <class 'list'>\n",
      "2\n",
      "6\n",
      "[3, 1]\n"
     ]
    }
   ],
   "source": [
    "print(liste, type(liste))\n",
    "\n",
    "print(liste[0])\n",
    "print(liste[-1])\n",
    "print(liste[1:3])"
   ]
  },
  {
   "cell_type": "code",
   "execution_count": 4,
   "metadata": {},
   "outputs": [
    {
     "name": "stdout",
     "output_type": "stream",
     "text": [
      "[2 3 1 4 6] <class 'numpy.ndarray'>\n",
      "2\n",
      "6\n",
      "[3 1]\n"
     ]
    }
   ],
   "source": [
    "print(array, type(array))\n",
    "\n",
    "print(array[0])\n",
    "print(array[-1])\n",
    "print(array[1:3])"
   ]
  },
  {
   "cell_type": "code",
   "execution_count": 5,
   "metadata": {},
   "outputs": [
    {
     "name": "stdout",
     "output_type": "stream",
     "text": [
      "[[1 2]\n",
      " [3 4]] <class 'numpy.ndarray'>\n"
     ]
    }
   ],
   "source": [
    "A = np.array([[1, 2], [3, 4]])\n",
    "\n",
    "print(A, type(A))"
   ]
  },
  {
   "cell_type": "code",
   "execution_count": 6,
   "metadata": {},
   "outputs": [
    {
     "name": "stdout",
     "output_type": "stream",
     "text": [
      "[1 3]\n",
      "[1 2]\n"
     ]
    }
   ],
   "source": [
    "print(A[:, 0])\n",
    "print(A[0, :])"
   ]
  },
  {
   "cell_type": "code",
   "execution_count": 7,
   "metadata": {},
   "outputs": [
    {
     "data": {
      "text/plain": [
       "array([ 0,  1,  2,  3,  4,  5,  6,  7,  8,  9, 10, 11])"
      ]
     },
     "execution_count": 7,
     "metadata": {},
     "output_type": "execute_result"
    }
   ],
   "source": [
    "v = np.array([i for i in range(12)])\n",
    "v"
   ]
  },
  {
   "cell_type": "code",
   "execution_count": 8,
   "metadata": {},
   "outputs": [
    {
     "name": "stdout",
     "output_type": "stream",
     "text": [
      "1\n",
      "11\n"
     ]
    }
   ],
   "source": [
    "print(v[1])\n",
    "print(v[-1])"
   ]
  },
  {
   "cell_type": "code",
   "execution_count": 9,
   "metadata": {},
   "outputs": [
    {
     "name": "stdout",
     "output_type": "stream",
     "text": [
      "[ 0  2  4  6  8 10]\n",
      "[11 10  9  8  7  6  5  4  3  2  1  0]\n",
      "[3 5 7]\n"
     ]
    }
   ],
   "source": [
    "# Lösung\n",
    "print(v[::2]) # Jedes zweite Element\n",
    "print(v[::-1]) # Rückwärts\n",
    "print(v[3:8:2]) # 4., 6. und 8. Element"
   ]
  },
  {
   "cell_type": "code",
   "execution_count": 10,
   "metadata": {},
   "outputs": [
    {
     "data": {
      "text/plain": [
       "array([[ 1,  2,  3,  4],\n",
       "       [ 5,  6,  7,  8],\n",
       "       [ 9, 10, 11, 12],\n",
       "       [13, 14, 15, 16]])"
      ]
     },
     "execution_count": 10,
     "metadata": {},
     "output_type": "execute_result"
    }
   ],
   "source": [
    "B = np.array([[1, 2, 3, 4],\n",
    "              [5, 6, 7, 8],\n",
    "              [9, 10, 11, 12],\n",
    "              [13, 14, 15, 16]])\n",
    "B"
   ]
  },
  {
   "cell_type": "code",
   "execution_count": 11,
   "metadata": {},
   "outputs": [
    {
     "name": "stdout",
     "output_type": "stream",
     "text": [
      "[5 6 7 8]\n",
      "6\n"
     ]
    }
   ],
   "source": [
    "print(B[1, :])\n",
    "print(B[1, 1])"
   ]
  },
  {
   "cell_type": "code",
   "execution_count": 12,
   "metadata": {},
   "outputs": [
    {
     "name": "stdout",
     "output_type": "stream",
     "text": [
      "[[ 1  2  3  4]\n",
      " [ 9 10 11 12]]\n",
      "[[ 2  4]\n",
      " [ 6  8]\n",
      " [10 12]\n",
      " [14 16]]\n"
     ]
    }
   ],
   "source": [
    "# Lösung\n",
    "print(B[::2]) # Jede zweite Zeile\n",
    "print(B[:,1:4:2]) # 2. und 4. Spalte"
   ]
  },
  {
   "cell_type": "code",
   "execution_count": 13,
   "metadata": {},
   "outputs": [
    {
     "data": {
      "text/plain": [
       "array([1, 2, 3, 4, 5])"
      ]
     },
     "execution_count": 13,
     "metadata": {},
     "output_type": "execute_result"
    }
   ],
   "source": [
    "w = np.arange(1, 6)\n",
    "w"
   ]
  },
  {
   "cell_type": "code",
   "execution_count": 14,
   "metadata": {},
   "outputs": [
    {
     "name": "stdout",
     "output_type": "stream",
     "text": [
      "3.0\n",
      "15\n",
      "1\n",
      "5\n",
      "1.4142135623730951\n"
     ]
    }
   ],
   "source": [
    "print(np.mean(w))\n",
    "print(np.sum(w))\n",
    "print(np.min(w))\n",
    "print(np.max(w))\n",
    "print(np.std(w))"
   ]
  },
  {
   "cell_type": "code",
   "execution_count": 15,
   "metadata": {},
   "outputs": [],
   "source": [
    "# Lösung:\n",
    "\n",
    "def summary_statistics(x: np.ndarray) -> None:\n",
    "    \"\"\"Prints summary results for input array\"\"\"\n",
    "    print_statistic = lambda s: print(f\"{s.__name__}: {s(x)}\")\n",
    "    for s in [np.mean, np.sum, np.min, np.max, np.std]:\n",
    "        print_statistic(s)"
   ]
  },
  {
   "cell_type": "code",
   "execution_count": 22,
   "metadata": {},
   "outputs": [
    {
     "name": "stdout",
     "output_type": "stream",
     "text": [
      "[1 2 3 4 5]\n",
      "mean: 3.0\n",
      "sum: 15\n",
      "amin: 1\n",
      "amax: 5\n",
      "std: 1.4142135623730951\n"
     ]
    }
   ],
   "source": [
    "print(w)\n",
    "summary_statistics(w)"
   ]
  },
  {
   "cell_type": "code",
   "execution_count": 21,
   "metadata": {},
   "outputs": [
    {
     "name": "stdout",
     "output_type": "stream",
     "text": [
      "[[1 2]\n",
      " [3 4]]\n",
      "mean: 2.5\n",
      "sum: 10\n",
      "amin: 1\n",
      "amax: 4\n",
      "std: 1.118033988749895\n"
     ]
    }
   ],
   "source": [
    "print(A)\n",
    "summary_statistics(A)"
   ]
  },
  {
   "cell_type": "code",
   "execution_count": 26,
   "metadata": {},
   "outputs": [
    {
     "name": "stdout",
     "output_type": "stream",
     "text": [
      "10\n",
      "[4 6]\n",
      "[3 7]\n"
     ]
    }
   ],
   "source": [
    "print(np.sum(A)) # alle Einträge\n",
    "print(np.sum(A, axis = 0)) # Summe jeder Spalte\n",
    "print(np.sum(A, axis = 1)) # Summe jeder Zeile"
   ]
  },
  {
   "cell_type": "code",
   "execution_count": 17,
   "metadata": {},
   "outputs": [
    {
     "name": "stdout",
     "output_type": "stream",
     "text": [
      "[  2.71828183   7.3890561   20.08553692  54.59815003 148.4131591 ]\n",
      "[0.         0.69314718 1.09861229 1.38629436 1.60943791]\n",
      "[ 0.84147098  0.90929743  0.14112001 -0.7568025  -0.95892427]\n",
      "[ 0.54030231 -0.41614684 -0.9899925  -0.65364362  0.28366219]\n"
     ]
    }
   ],
   "source": [
    "print(np.exp(w))\n",
    "print(np.log(w))\n",
    "print(np.sin(w))\n",
    "print(np.cos(w))"
   ]
  },
  {
   "cell_type": "code",
   "execution_count": 33,
   "metadata": {},
   "outputs": [
    {
     "name": "stdout",
     "output_type": "stream",
     "text": [
      "[[ 2.71828183  7.3890561 ]\n",
      " [20.08553692 54.59815003]] \n",
      "\n",
      "[[0.         0.69314718]\n",
      " [1.09861229 1.38629436]] \n",
      "\n",
      "[[ 0.84147098  0.90929743]\n",
      " [ 0.14112001 -0.7568025 ]] \n",
      "\n",
      "[[ 0.54030231 -0.41614684]\n",
      " [-0.9899925  -0.65364362]]\n"
     ]
    }
   ],
   "source": [
    "print(np.exp(A), \"\\n\")\n",
    "print(np.log(A), \"\\n\")\n",
    "print(np.sin(A), \"\\n\")\n",
    "print(np.cos(A))"
   ]
  },
  {
   "cell_type": "code",
   "execution_count": 18,
   "metadata": {},
   "outputs": [
    {
     "name": "stdout",
     "output_type": "stream",
     "text": [
      "[2 3 4 5 6]\n",
      "[0 1 2 3 4]\n",
      "[0.5 1.  1.5 2.  2.5]\n",
      "[ 2  4  6  8 10]\n",
      "[ 1  4  9 16 25]\n"
     ]
    }
   ],
   "source": [
    "print(w + 1)\n",
    "print(w - 1)\n",
    "print(w / 2)\n",
    "print(w * 2)\n",
    "print(w ** 2)"
   ]
  },
  {
   "cell_type": "code",
   "execution_count": 34,
   "metadata": {},
   "outputs": [
    {
     "name": "stdout",
     "output_type": "stream",
     "text": [
      "[[2 3]\n",
      " [4 5]] \n",
      "\n",
      "[[0 1]\n",
      " [2 3]] \n",
      "\n",
      "[[0.5 1. ]\n",
      " [1.5 2. ]] \n",
      "\n",
      "[[2 4]\n",
      " [6 8]] \n",
      "\n",
      "[[ 1  4]\n",
      " [ 9 16]]\n"
     ]
    }
   ],
   "source": [
    "print(A + 1, \"\\n\")\n",
    "print(A - 1, \"\\n\")\n",
    "print(A / 2, \"\\n\")\n",
    "print(A * 2, \"\\n\")\n",
    "print(A ** 2)"
   ]
  },
  {
   "cell_type": "code",
   "execution_count": null,
   "metadata": {},
   "outputs": [],
   "source": []
  }
 ],
 "metadata": {
  "kernelspec": {
   "display_name": "Python 3",
   "language": "python",
   "name": "python3"
  },
  "language_info": {
   "codemirror_mode": {
    "name": "ipython",
    "version": 3
   },
   "file_extension": ".py",
   "mimetype": "text/x-python",
   "name": "python",
   "nbconvert_exporter": "python",
   "pygments_lexer": "ipython3",
   "version": "3.8.2"
  }
 },
 "nbformat": 4,
 "nbformat_minor": 4
}
