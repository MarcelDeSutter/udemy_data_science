{
 "cells": [
  {
   "cell_type": "code",
   "execution_count": 8,
   "metadata": {},
   "outputs": [],
   "source": [
    "# Lösung:\n",
    "\n",
    "def halbieren(x):\n",
    "    idx_haelfte = len(x) // 2\n",
    "    return x[:idx_haelfte], x[idx_haelfte:]"
   ]
  },
  {
   "cell_type": "code",
   "execution_count": 9,
   "metadata": {},
   "outputs": [
    {
     "data": {
      "text/plain": [
       "('Hallo', ' Welt')"
      ]
     },
     "execution_count": 9,
     "metadata": {},
     "output_type": "execute_result"
    }
   ],
   "source": [
    "halbieren(\"Hallo Welt\")"
   ]
  },
  {
   "cell_type": "code",
   "execution_count": 10,
   "metadata": {},
   "outputs": [
    {
     "data": {
      "text/plain": [
       "([0, 1], [2, 3, 4])"
      ]
     },
     "execution_count": 10,
     "metadata": {},
     "output_type": "execute_result"
    }
   ],
   "source": [
    "halbieren([0, 1, 2, 3, 4])"
   ]
  },
  {
   "cell_type": "code",
   "execution_count": 15,
   "metadata": {},
   "outputs": [],
   "source": [
    "# Lösung:\n",
    "\n",
    "def halbieren2(x):\n",
    "    idx_haelfte = len(x) // 2\n",
    "    is_odd = len(x) % 2 != 0\n",
    "    if is_odd:\n",
    "        del x[idx_haelfte]\n",
    "    return x[:idx_haelfte], x[idx_haelfte:]"
   ]
  },
  {
   "cell_type": "code",
   "execution_count": 16,
   "metadata": {},
   "outputs": [
    {
     "data": {
      "text/plain": [
       "('Hallo', ' Welt')"
      ]
     },
     "execution_count": 16,
     "metadata": {},
     "output_type": "execute_result"
    }
   ],
   "source": [
    "halbieren2(\"Hallo Welt\")"
   ]
  },
  {
   "cell_type": "code",
   "execution_count": 17,
   "metadata": {},
   "outputs": [
    {
     "data": {
      "text/plain": [
       "([0, 1], [3, 4])"
      ]
     },
     "execution_count": 17,
     "metadata": {},
     "output_type": "execute_result"
    }
   ],
   "source": [
    "halbieren2([0, 1, 2, 3, 4])"
   ]
  },
  {
   "cell_type": "code",
   "execution_count": 50,
   "metadata": {},
   "outputs": [],
   "source": [
    "# Lösung:\n",
    "\n",
    "def keine_leerzeichen(string):\n",
    "    output_str = \"\"\n",
    "    for i in string:\n",
    "        if i != \" \":\n",
    "            output_str += i\n",
    "    return output_str"
   ]
  },
  {
   "cell_type": "code",
   "execution_count": 51,
   "metadata": {},
   "outputs": [
    {
     "data": {
      "text/plain": [
       "'HalloWelt'"
      ]
     },
     "execution_count": 51,
     "metadata": {},
     "output_type": "execute_result"
    }
   ],
   "source": [
    "keine_leerzeichen(\"Hallo Welt\")"
   ]
  },
  {
   "cell_type": "code",
   "execution_count": 73,
   "metadata": {},
   "outputs": [
    {
     "data": {
      "text/plain": [
       "{1.0: float, 2: int, '3': str}"
      ]
     },
     "execution_count": 73,
     "metadata": {},
     "output_type": "execute_result"
    }
   ],
   "source": [
    "# Lösung:\n",
    "\n",
    "keys = [1.0, 2, \"3\"]\n",
    "values = [type(key) for key in keys]\n",
    "\n",
    "dictionary = dict(list(zip(keys, values)))\n",
    "dictionary"
   ]
  },
  {
   "cell_type": "code",
   "execution_count": 75,
   "metadata": {},
   "outputs": [
    {
     "name": "stdout",
     "output_type": "stream",
     "text": [
      "19.142857142857142\n",
      "0.5\n",
      "0.2999999999999998\n"
     ]
    }
   ],
   "source": [
    "alter = [24, 16, 19, 20, 18, 18, 19]\n",
    "geschlecht = [\"f\", \"f\", \"m\", \"m\", \"f\", \"m\"]\n",
    "groesse = [1.7, 1.6, 1.8, 1.8, 1.7, 1.9]\n",
    "\n",
    "# Lösung:\n",
    "\n",
    "df = {\"alter\": alter, \"geschlecht\": geschlecht, \"groesse\": groesse}\n",
    "\n",
    "mean_alter = sum(df[\"alter\"])/len(df[\"alter\"])\n",
    "female_ratio = df[\"geschlecht\"].count(\"f\")/len(df[\"geschlecht\"])\n",
    "range_groesse = max(df[\"groesse\"]) - min(df[\"groesse\"])\n",
    "\n",
    "print(mean_alter)\n",
    "print(female_ratio)\n",
    "print(range_groesse)"
   ]
  },
  {
   "cell_type": "code",
   "execution_count": null,
   "metadata": {},
   "outputs": [],
   "source": []
  }
 ],
 "metadata": {
  "kernelspec": {
   "display_name": "Python 3",
   "language": "python",
   "name": "python3"
  },
  "language_info": {
   "codemirror_mode": {
    "name": "ipython",
    "version": 3
   },
   "file_extension": ".py",
   "mimetype": "text/x-python",
   "name": "python",
   "nbconvert_exporter": "python",
   "pygments_lexer": "ipython3",
   "version": "3.8.2"
  }
 },
 "nbformat": 4,
 "nbformat_minor": 4
}
